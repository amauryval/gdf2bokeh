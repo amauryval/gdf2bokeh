{
 "cells": [
  {
   "cell_type": "markdown",
   "metadata": {},
   "source": [
    "# Gdf2Bokeh"
   ]
  },
  {
   "cell_type": "markdown",
   "metadata": {},
   "source": [
    "Gdf2Bokeh is able to map your data from various format. About data, you must be aware to use compliant geometry types:\n",
    "\n",
    "It supports data containing these geometries families:\n",
    "\n",
    "* Point data with Point geometry\n",
    "* MultiPoint data with MultiPoint geometry\n",
    "* Line data with LineString and/or MultiLineString geometries\n",
    "* Polygon data with Polygon and/or MultiPolygon geometries\n",
    "\n",
    "GeometryCollection data are not supported, so explode it to use it. So the best practice consists to split your input \n",
    "data by geometry type. \n",
    "\n",
    "And you'll be able, optionally, to style your data thanks to the bokeh arguments :\n",
    "Check bokeh documentation in order to style your data :\n",
    "    \n",
    "* Point / MultiPoint families: [bokeh marker style options](https://docs.bokeh.org/en/latest/docs/reference/models/markers.html)\n",
    "* Line family: [bokeh multi_line style options](https://docs.bokeh.org/en/latest/docs/reference/plotting.html?highlight=multi_polygons#bokeh.plotting.figure.Figure.multi_line)\n",
    "* Polygon family: [bokeh multi_polygon style options](https://docs.bokeh.org/en/latest/docs/reference/plotting.html?highlight=multi_polygons#bokeh.plotting.figure.Figure.multi_polygons)"
   ]
  },
  {
   "cell_type": "markdown",
   "metadata": {},
   "source": [
    "## Import all required librairies"
   ]
  },
  {
   "cell_type": "code",
   "execution_count": null,
   "metadata": {},
   "outputs": [],
   "source": [
    "import geopandas as gpd\n",
    "\n",
    "\n",
    "from bokeh.plotting import output_notebook\n",
    "from bokeh.plotting import show\n",
    "\n",
    "from gdf2bokeh import Gdf2Bokeh\n",
    "\n",
    "output_notebook()"
   ]
  },
  {
   "cell_type": "markdown",
   "metadata": {},
   "source": [
    "## How to ?"
   ]
  },
  {
   "cell_type": "markdown",
   "metadata": {},
   "source": [
    "### Prepare input data from geojson"
   ]
  },
  {
   "cell_type": "code",
   "execution_count": null,
   "metadata": {
    "pycharm": {
     "name": "#%%\n"
    },
    "scrolled": true
   },
   "outputs": [],
   "source": [
    "layers_to_map = [\n",
    "    {\n",
    "        # contains both Polygon and MultiPolygon features\n",
    "        \"title\": \"[Multi]Polygons layer\",\n",
    "        \"data\": gpd.GeoDataFrame.from_file(\"tests/fixtures/multipolygons.geojson\"),\n",
    "        \"from_epsg\": 4326,\n",
    "        \"fill_color\": \"orange\"\n",
    "    },\n",
    "    {\n",
    "        \"title\": \"Polygons layer\",\n",
    "        \"data\": gpd.GeoDataFrame.from_file(\"tests/fixtures/polygons.geojson\"),\n",
    "        \"from_epsg\": 4326,\n",
    "        \"fill_color\": \"red\",\n",
    "        \"line_color\": \"black\"\n",
    "    },\n",
    "    {\n",
    "        \"title\": \"LineString layer\", \n",
    "        \"data\": gpd.GeoDataFrame.from_file(\"tests/fixtures/linestrings.geojson\"),\n",
    "        \"from_epsg\": 4326,\n",
    "        \"color\": \"color\",  # we can use the attribute called 'color' containing name color (as usual on bokeh)\n",
    "        \"line_width\": 4\n",
    "    },\n",
    "    {\n",
    "        # contains both LineString and MultiLineString features\n",
    "        \"title\": \"Multi[LineStrings] layer\",\n",
    "        \"data\": gpd.GeoDataFrame.from_file(\"tests/fixtures/multilinestrings.geojson\"),\n",
    "        \"from_epsg\": 4326,\n",
    "        \"color\": \"blue\",\n",
    "        \"line_width\": 6\n",
    "\n",
    "    },\n",
    "    {\n",
    "        \"title\": \"MultiPoints layer\",\n",
    "        \"data\": gpd.GeoDataFrame.from_file(\"tests/fixtures/multipoints.geojson\"),\n",
    "        \"from_epsg\": 4326,\n",
    "        \"size\": 12,\n",
    "        \"fill_color\": \"yellow\",\n",
    "        \"line_color\": \"blue\"\n",
    "    },\n",
    "    {\n",
    "        \"title\": \"Points layer\",\n",
    "        \"data\": gpd.GeoDataFrame.from_file(\"tests/fixtures/points.geojson\"),\n",
    "        \"from_epsg\": 4326,\n",
    "        \"size\": 6,\n",
    "        \"fill_color\": \"red\",\n",
    "        \"line_color\": \"blue\"\n",
    "    },\n",
    "]"
   ]
  },
  {
   "cell_type": "markdown",
   "metadata": {},
   "source": [
    "### Let's go to map our data"
   ]
  },
  {
   "cell_type": "code",
   "execution_count": null,
   "metadata": {
    "scrolled": true
   },
   "outputs": [],
   "source": [
    "%%time\n",
    "\n",
    "map_session = Gdf2Bokeh(\n",
    "    \"My beautiful map\",\n",
    "    width=800,\n",
    "    height=600,\n",
    "    background_map_name=\"CARTODBPOSITRON\"\n",
    ")\n",
    "\n",
    "for layer in layers_to_map:\n",
    "    map_session.add_layer_from_geodataframe(**layer)\n",
    "map_session.add_layers_on_maps()\n",
    "\n",
    "show(map_session.figure)"
   ]
  },
  {
   "cell_type": "code",
   "execution_count": null,
   "metadata": {},
   "outputs": [],
   "source": []
  }
 ],
 "metadata": {
  "kernelspec": {
   "display_name": "Python 3 (ipykernel)",
   "language": "python",
   "name": "python3"
  },
  "language_info": {
   "codemirror_mode": {
    "name": "ipython",
    "version": 3
   },
   "file_extension": ".py",
   "mimetype": "text/x-python",
   "name": "python",
   "nbconvert_exporter": "python",
   "pygments_lexer": "ipython3",
   "version": "3.11.0"
  },
  "widgets": {
   "application/vnd.jupyter.widget-state+json": {
    "state": {},
    "version_major": 2,
    "version_minor": 0
   }
  }
 },
 "nbformat": 4,
 "nbformat_minor": 2
}
